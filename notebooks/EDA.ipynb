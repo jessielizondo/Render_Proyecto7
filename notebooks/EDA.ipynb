{
 "cells": [
  {
   "cell_type": "code",
   "execution_count": null,
   "metadata": {},
   "outputs": [],
   "source": [
    "import pandas as pd\n",
    "import plotly.express as px\n",
    "\n",
    "car_data = pd.read_csv('vehicles_us.csv') # leer los datos\n",
    "fig = px.scatter(car_data, x=\"odometer\", y=\"price\") # crear un gráfico de dispersión\n",
    "fig.show() # crear gráfico de dispersión"
   ]
  },
  {
   "cell_type": "code",
   "execution_count": null,
   "metadata": {},
   "outputs": [],
   "source": [
    "import pandas as pd\n",
    "import plotly.express as px\n",
    "\n",
    "car_data = pd.read_csv(r'C:\\Users\\Dell\\Documents\\Data Science Program\\Sprint 7\\Directorio Principal\\Render_Proyecto7\\vehicles_us.csv') # leer los datos\n",
    "fig = px.histogram(car_data, x=\"odometer\") # crear un histograma\n",
    "fig.show() # crear gráfico de dispersión"
   ]
  },
  {
   "cell_type": "markdown",
   "metadata": {},
   "source": [
    "código prueba botón histograma"
   ]
  },
  {
   "cell_type": "code",
   "execution_count": null,
   "metadata": {},
   "outputs": [],
   "source": [
    "# Botón para construir histograma\n",
    "hist_button = st.button('Construir histograma') # crear un botón\n",
    "        \n",
    "if hist_button:\n",
    "    st.write('Creación de un histograma para el conjunto de datos de anuncios de venta de coches')\n",
    "    \n",
    "    # Crear el histograma\n",
    "    fig = px.histogram(car_data, x=\"condition\", y=\"price\",\n",
    "                       title='Histograma de la relación entre condición y precio',\n",
    "                       labels={'price': 'price'},\n",
    "                       opacity=0.8,\n",
    "                       log_y=True,  # Usar escala logarítmica para el eje Y\n",
    "                       color=\"condition\",  # Colorear por condición\n",
    "                       color_discrete_sequence=['lightpink', 'lightgreen', 'lightblue', 'lightcoral', 'lightsalmon']  # Colores de las barras\n",
    "                       )    \n",
    "\n",
    "    st.plotly_chart(fig, use_container_width=True)"
   ]
  },
  {
   "cell_type": "markdown",
   "metadata": {},
   "source": [
    "código de prueba checkbox histograma"
   ]
  },
  {
   "cell_type": "code",
   "execution_count": null,
   "metadata": {},
   "outputs": [],
   "source": [
    "# Checkbox para crear histograma\n",
    "build_histogram = st.checkbox('Construir un histograma')\n",
    "\n",
    "if build_histogram: # si la casilla de verificación está seleccionada\n",
    "    st.write('Creación de un histograma para el conjunto de datos de anuncios de venta de coches')\n",
    "\n",
    "    # Crear el histograma\n",
    "    fig = px.histogram(car_data, x=\"condition\", y=\"price\",\n",
    "                       title='Histograma de la relación entre condición y precio',\n",
    "                       labels={'price': 'price'},\n",
    "                       opacity=0.8,\n",
    "                       log_y=True,  # Usar escala logarítmica para el eje Y\n",
    "                       color=\"condition\",  # Colorear por condición\n",
    "                       color_discrete_sequence=['lightpink', 'lightgreen', 'lightblue', 'lightcoral', 'lightsalmon']  # Colores de las barras\n",
    "                       )    \n",
    "\n",
    "    st.plotly_chart(fig, use_container_width=True)"
   ]
  }
 ],
 "metadata": {
  "kernelspec": {
   "display_name": "Python 3",
   "language": "python",
   "name": "python3"
  },
  "language_info": {
   "codemirror_mode": {
    "name": "ipython",
    "version": 3
   },
   "file_extension": ".py",
   "mimetype": "text/x-python",
   "name": "python",
   "nbconvert_exporter": "python",
   "pygments_lexer": "ipython3",
   "version": "3.13.1"
  }
 },
 "nbformat": 4,
 "nbformat_minor": 2
}
